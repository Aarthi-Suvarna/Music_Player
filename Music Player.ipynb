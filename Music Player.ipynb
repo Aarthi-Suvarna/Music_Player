{
 "cells": [
  {
   "cell_type": "code",
   "execution_count": null,
   "id": "ee5b46c9",
   "metadata": {},
   "outputs": [],
   "source": [
    "import pygame\n",
    "pygame.mixer.init()\n",
    "def play_music(file_path):\n",
    "    pygame.mixer.music.load(file_path)\n",
    "    pygame.mixer.music.play()\n",
    "def stop_music():\n",
    "    pygame.mixer.music.stop()\n",
    "while True:\n",
    "    print(\"Options:\")\n",
    "    print(\"Enter 'play' to play a music file\")\n",
    "    print(\"Enter 'stop' to stop the music\")\n",
    "    print(\"Enter 'quit' to exit the program\")\n",
    "    user_input = input(\" \")\n",
    "    if user_input == \"quit\":\n",
    "        break\n",
    "    elif user_input == \"play\":\n",
    "        file_path = input(\"Enter the path to the music file: \")\n",
    "        try:\n",
    "            play_music(file_path)\n",
    "            print(f\"Playing: {file_path}\")\n",
    "        except pygame.error:\n",
    "            print(\"Error: Unable to play the music file.\")\n",
    "    elif user_input == \"stop\":\n",
    "        stop_music()\n",
    "        print(\"Music stopped.\")\n",
    "    else:\n",
    "        print(\"Invalid input\")\n"
   ]
  },
  {
   "cell_type": "code",
   "execution_count": null,
   "id": "4b5012ed",
   "metadata": {},
   "outputs": [],
   "source": []
  }
 ],
 "metadata": {
  "kernelspec": {
   "display_name": "Python 3 (ipykernel)",
   "language": "python",
   "name": "python3"
  },
  "language_info": {
   "codemirror_mode": {
    "name": "ipython",
    "version": 3
   },
   "file_extension": ".py",
   "mimetype": "text/x-python",
   "name": "python",
   "nbconvert_exporter": "python",
   "pygments_lexer": "ipython3",
   "version": "3.9.12"
  }
 },
 "nbformat": 4,
 "nbformat_minor": 5
}
